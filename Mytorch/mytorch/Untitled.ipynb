{
 "cells": [
  {
   "cell_type": "code",
   "execution_count": 1,
   "metadata": {},
   "outputs": [],
   "source": [
    "import numpy as np\n",
    "\n",
    "class Upsample1d():\n",
    "\n",
    "    def __init__(self, upsampling_factor):\n",
    "        self.upsampling_factor = upsampling_factor\n",
    "\n",
    "    def forward(self, A):\n",
    "\n",
    "        \"\"\"\n",
    "        Argument:\n",
    "            A (np.array): (batch_size, in_channels, input_width)\n",
    "        Return:\n",
    "            Z (np.array): (batch_size, in_channels, output_width)\n",
    "        \"\"\"\n",
    "\n",
    "        Z = A* self.upsampling_factor-( self.upsampling_factor-1) # TODO\n",
    "        print(Z)\n",
    "\n",
    "        return Z\n",
    "\n",
    "    def backward(self, dLdZ):\n",
    "\n",
    "        \"\"\"\n",
    "        Argument:\n",
    "            dLdZ (np.array): (batch_size, in_channels, output_width)\n",
    "        Return:\n",
    "            dLdA (np.array): (batch_size, in_channels, input_width)\n",
    "        \"\"\"\n",
    "        \n",
    "        dLdA = None  #TODO\n",
    "\n",
    "        return NotImplemented"
   ]
  },
  {
   "cell_type": "code",
   "execution_count": 5,
   "metadata": {},
   "outputs": [],
   "source": [
    "upsampling_factor = 2\n",
    "upsample = Upsample1d(upsampling_factor)"
   ]
  },
  {
   "cell_type": "code",
   "execution_count": null,
   "metadata": {},
   "outputs": [],
   "source": [
    "upsample.forward()"
   ]
  }
 ],
 "metadata": {
  "kernelspec": {
   "display_name": "dl_11785_hw_1",
   "language": "python",
   "name": "dl_11785_hw_1"
  },
  "language_info": {
   "codemirror_mode": {
    "name": "ipython",
    "version": 3
   },
   "file_extension": ".py",
   "mimetype": "text/x-python",
   "name": "python",
   "nbconvert_exporter": "python",
   "pygments_lexer": "ipython3",
   "version": "3.8.3"
  }
 },
 "nbformat": 4,
 "nbformat_minor": 2
}
